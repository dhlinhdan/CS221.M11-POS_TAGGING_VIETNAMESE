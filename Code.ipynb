{
  "cells": [
    {
      "cell_type": "markdown",
      "metadata": {
        "id": "4W_QPjwzf7uF"
      },
      "source": [
        "# ĐỒ ÁN: Xử lý ngôn ngữ tự nhiên\n",
        "Đinh Hoàng Linh Đan     - 19521309\n",
        "Trần Nguyễn Quỳnh Anh   - 19521217  "
      ]
    },
    {
      "cell_type": "code",
      "execution_count": null,
      "metadata": {
        "id": "KZCud4Iqf1Z0"
      },
      "outputs": [],
      "source": [
        "from collections import defaultdict\n",
        "import unicodedata as ud\n",
        "import pandas as pd\n",
        "import numpy as np\n",
        "import math\n",
        "import ast\n",
        "import re"
      ]
    },
    {
      "cell_type": "code",
      "execution_count": null,
      "metadata": {
        "id": "FhdcweSLgBBk"
      },
      "outputs": [],
      "source": [
        "import warnings\n",
        "warnings.filterwarnings('ignore')\n",
        "warnings.filterwarnings(action='ignore', category=DeprecationWarning)\n",
        "warnings.filterwarnings(action='ignore', category=FutureWarning)"
      ]
    },
    {
      "cell_type": "markdown",
      "metadata": {
        "id": "NZnAC6tHiTHs"
      },
      "source": [
        "# Dataset"
      ]
    },
    {
      "cell_type": "code",
      "execution_count": null,
      "metadata": {
        "id": "B9zaNqVHgNn1"
      },
      "outputs": [],
      "source": [
        "sentences = open('/content/dataset.txt', encoding='utf-8').readlines()\n",
        "tokenize_sentences = [sentence.split(' ') for sentence in sentences]"
      ]
    },
    {
      "cell_type": "code",
      "execution_count": null,
      "metadata": {
        "id": "B5S5qMoYgNvz",
        "colab": {
          "base_uri": "https://localhost:8080/"
        },
        "outputId": "a988ae1b-7a8b-4d31-d5bd-700520094084"
      },
      "outputs": [
        {
          "output_type": "stream",
          "name": "stdout",
          "text": [
            "Số lượng câu trong Dataset: 40\n"
          ]
        }
      ],
      "source": [
        "print('Số lượng câu trong Dataset:', len(sentences))\n",
        "#sentences[0:len(sentences)]"
      ]
    },
    {
      "cell_type": "markdown",
      "metadata": {
        "id": "9FBMaGs4j1Xi"
      },
      "source": [
        "# Tách từ bằng Longest Matching"
      ]
    },
    {
      "cell_type": "code",
      "execution_count": null,
      "metadata": {
        "id": "9Zc9yY2RH40q"
      },
      "outputs": [],
      "source": [
        "def syllablize(sentence):\n",
        "    word = '\\w+'\n",
        "    non_word = '[^\\w\\s]'\n",
        "    digits = '\\d+([\\.,_]\\d+)+'\n",
        "    \n",
        "    patterns = []\n",
        "    patterns.extend([word, non_word, digits])\n",
        "    patterns = f\"({'|'.join(patterns)})\"\n",
        "    \n",
        "    sentence = ud.normalize('NFC', sentence)\n",
        "    tokens = re.findall(patterns, sentence, re.UNICODE)\n",
        "    return [token[0] for token in tokens]"
      ]
    },
    {
      "cell_type": "code",
      "execution_count": null,
      "metadata": {
        "id": "rRBkmsjIFhAH"
      },
      "outputs": [],
      "source": [
        "def load_n_grams(path):\n",
        "    with open(path, encoding='utf8') as f:\n",
        "        words = f.read()\n",
        "        words = ast.literal_eval(words)\n",
        "    return words"
      ]
    },
    {
      "cell_type": "code",
      "execution_count": null,
      "metadata": {
        "id": "J80okVzEFhDj"
      },
      "outputs": [],
      "source": [
        "def longest_matching(sentence, two, three):\n",
        "    syllables = syllablize(sentence)\n",
        "    syl_len = len(syllables)\n",
        "    \n",
        "    curr_id = 0\n",
        "    word_list = []\n",
        "    done = False\n",
        "    \n",
        "    while (curr_id < syl_len) and (not done):\n",
        "        curr_word = syllables[curr_id]\n",
        "        if curr_id >= syl_len - 1:\n",
        "            word_list.append(curr_word)\n",
        "            done = True\n",
        "        else:\n",
        "            next_word = syllables[curr_id + 1]\n",
        "            pair_word = ' '.join([curr_word.lower(), next_word.lower()])\n",
        "            if curr_id >= (syl_len - 2):\n",
        "                if pair_word in two:\n",
        "                    word_list.append('_'.join([curr_word, next_word]))\n",
        "                    curr_id += 2\n",
        "                else:\n",
        "                    word_list.append(curr_word)\n",
        "                    curr_id += 1\n",
        "            else:\n",
        "                next_next_word = syllables[curr_id + 2]\n",
        "                triple_word = ' '.join([pair_word, next_next_word.lower()])\n",
        "                if triple_word in three:\n",
        "                    word_list.append('_'.join([curr_word, next_word, next_next_word]))\n",
        "                    curr_id += 3\n",
        "                elif pair_word in two:\n",
        "                    word_list.append('_'.join([curr_word, next_word]))\n",
        "                    curr_id += 2\n",
        "                else:\n",
        "                    word_list.append(curr_word)\n",
        "                    curr_id += 1\n",
        "    return word_list"
      ]
    },
    {
      "cell_type": "code",
      "execution_count": null,
      "metadata": {
        "colab": {
          "base_uri": "https://localhost:8080/"
        },
        "id": "jfPsg6egGxC0",
        "outputId": "9e2755d6-1cb8-440e-a249-2a8eeec3a4c5"
      },
      "outputs": [
        {
          "output_type": "execute_result",
          "data": {
            "text/plain": [
              "['Hãy', 'tách', 'khỏi', 'quá_khứ', 'và', 'chôn_vùi', 'nó', '.']"
            ]
          },
          "metadata": {},
          "execution_count": 9
        }
      ],
      "source": [
        "two_word = load_n_grams('/content/two_word.txt')\n",
        "three_word = load_n_grams('/content/three_word.txt')\n",
        "longest_matching('Hãy tách khỏi quá khứ và chôn vùi nó.', two_word, three_word)"
      ]
    },
    {
      "cell_type": "code",
      "execution_count": null,
      "metadata": {
        "colab": {
          "base_uri": "https://localhost:8080/"
        },
        "id": "vUEaPB0VMIZ2",
        "outputId": "6933c805-4f1f-402d-91e5-50ff17960296"
      },
      "outputs": [
        {
          "output_type": "execute_result",
          "data": {
            "text/plain": [
              "['Tương_lai là hôm_nay .',\n",
              " 'Hãy tách khỏi quá_khứ và chôn_vùi nó .',\n",
              " 'Nhưng ta hoàn_toàn không cần phải lo_lắng .']"
            ]
          },
          "metadata": {},
          "execution_count": 10
        }
      ],
      "source": [
        "with open('/content/Longest_Matching_Tokens.txt', 'w', encoding='utf-8') as f:\n",
        "    longest_matching_sentences = []\n",
        "    for sentence in sentences:\n",
        "        word_list = longest_matching(sentence, two_word, three_word)\n",
        "        longest_matching_sentences.append(' '.join(word_list))\n",
        "        for word in word_list: f.write(word + '\\n')\n",
        "        if sentence != sentences[-1]: f.write('\\n')\n",
        "    f.write('\\n')\n",
        "longest_matching_sentences[0:3]"
      ]
    },
    {
      "cell_type": "markdown",
      "metadata": {
        "id": "QCDPQOWnbC3a"
      },
      "source": [
        "# Tách từ bằng VnCoreNLP"
      ]
    },
    {
      "cell_type": "code",
      "execution_count": null,
      "metadata": {
        "id": "LgNrvxAubwHu"
      },
      "outputs": [],
      "source": [
        "!pip install vncorenlp"
      ]
    },
    {
      "cell_type": "code",
      "execution_count": null,
      "metadata": {
        "id": "q-GlnKkDbGMd"
      },
      "outputs": [],
      "source": [
        "from vncorenlp import VnCoreNLP"
      ]
    },
    {
      "cell_type": "code",
      "execution_count": null,
      "metadata": {
        "id": "WD38AKFMhEUc"
      },
      "outputs": [],
      "source": [
        "client = VnCoreNLP(address='http://127.0.0.1', port=9000)"
      ]
    },
    {
      "cell_type": "code",
      "execution_count": null,
      "metadata": {
        "id": "eYHwHah0bIje"
      },
      "outputs": [],
      "source": [
        "with open('tokenize/vncore_tokens.txt', 'w', encoding='utf-8') as f:\n",
        "    vncore_sentences = []\n",
        "    for sentence in sentences:\n",
        "        word_list = client.tokenize(sentence)[0]\n",
        "        vncore_sentences.append(' '.join(word_list))\n",
        "        for word in word_list: f.write(word + '\\n')\n",
        "        if sentence != sentences[-1]: f.write('\\n')\n",
        "    f.write('\\n')\n",
        "vncore_sentences[0:3]"
      ]
    },
    {
      "cell_type": "markdown",
      "metadata": {
        "id": "XpdplN6xHuXf"
      },
      "source": [
        "# Tách từ thủ công"
      ]
    },
    {
      "cell_type": "code",
      "execution_count": null,
      "metadata": {
        "colab": {
          "base_uri": "https://localhost:8080/"
        },
        "id": "5ytWJnGIHgHp",
        "outputId": "fd629fbb-9e77-4eb1-b0a1-8a0bc8e0ed53"
      },
      "outputs": [
        {
          "output_type": "execute_result",
          "data": {
            "text/plain": [
              "['Tương_lai  là  hôm_nay .',\n",
              " 'Hãy  tách  khỏi  quá_khứ  và  chôn_vùi  nó .',\n",
              " 'Nhưng  ta  hoàn_toàn  không  cần  phải  Lo_lắng .']"
            ]
          },
          "metadata": {},
          "execution_count": 11
        }
      ],
      "source": [
        "with open('/content/Manual_Tokens.txt', 'r', encoding='utf-8') as f:\n",
        "    manual_tokenize_sentences = []\n",
        "    sentence = ''\n",
        "    for word in f:\n",
        "        if word == '\\n': \n",
        "            manual_tokenize_sentences.append(sentence.strip())\n",
        "            sentence = ''\n",
        "        else: sentence += word.replace('\\n', ' ')\n",
        "manual_tokenize_sentences[0:3]"
      ]
    },
    {
      "cell_type": "markdown",
      "metadata": {
        "id": "PRduRpBIXzby"
      },
      "source": [
        "# Đánh giá kết quả tách từ"
      ]
    },
    {
      "cell_type": "code",
      "execution_count": null,
      "metadata": {
        "id": "Az5BPXG6X2Oc"
      },
      "outputs": [],
      "source": [
        "def count_correct_words(pred, source, n_grams=3):\n",
        "    pred_words = pred.split()\n",
        "    source_words = source.split()\n",
        "    \n",
        "    total_true, tp = 0, 0\n",
        "    total_errors, fp = 0, 0\n",
        "    \n",
        "    idx = 0\n",
        "    while idx < len(pred_words):\n",
        "        if pred_words[idx] not in source_words[idx:(idx + n_grams)]: \n",
        "            if '_' in pred_words[idx]: fp += 1\n",
        "            del pred_words[idx]\n",
        "            total_errors += 1\n",
        "        else: idx += 1\n",
        "    \n",
        "    idx = 0\n",
        "    while idx < len(source_words):\n",
        "        if source_words[idx] not in pred_words[idx:(idx + n_grams)]: \n",
        "            del source_words[idx]\n",
        "        else: idx += 1\n",
        "    \n",
        "    if len(pred_words) < len(source_words): words = pred_words\n",
        "    else: words = source_words\n",
        "    \n",
        "    for idx in range (len(words)):\n",
        "        if pred_words[idx] == source_words[idx]:\n",
        "            if '_' in pred_words[idx]: tp += 1 \n",
        "            total_true += 1\n",
        "                    \n",
        "    return total_true, total_errors, tp, fp"
      ]
    },
    {
      "cell_type": "code",
      "execution_count": null,
      "metadata": {
        "id": "1kxpMgdJYADE"
      },
      "outputs": [],
      "source": [
        "def tokenize_evaluation(pred, source, n_grams=3):\n",
        "    total_true = 0\n",
        "    total_errors = 0\n",
        "    total_words = 0\n",
        "    \n",
        "    pred_tp = 0\n",
        "    pred_fp = 0\n",
        "    \n",
        "    for pred_sentence, source_sentence in zip(pred, source):\n",
        "        total_words += len(source_sentence.split())\n",
        "        if pred_sentence != source_sentence:\n",
        "            true, error, tp, fp = count_correct_words(pred_sentence, source_sentence, n_grams)\n",
        "            total_true += true \n",
        "            total_errors += error\n",
        "            pred_tp += tp\n",
        "            pred_fp += fp\n",
        "        else:\n",
        "            for word in source_sentence.split():\n",
        "                if '_' in word: pred_tp += 1\n",
        "                total_true += 1\n",
        "    return {\n",
        "        'Accuracy': total_true / total_words, \n",
        "        'Precision': pred_tp / (pred_tp + pred_fp),\n",
        "        'Recall': pred_tp / count_manual_tokenize_compounds,\n",
        "        'True Positive': pred_tp, \n",
        "        'False Positive': pred_fp,\n",
        "        'Total True': total_true, \n",
        "        'Total Errors': total_errors\n",
        "    }"
      ]
    },
    {
      "cell_type": "markdown",
      "metadata": {
        "id": "ZffPxQN2I64b"
      },
      "source": [
        "# Tạo ngữ liệu"
      ]
    },
    {
      "cell_type": "code",
      "execution_count": null,
      "metadata": {
        "id": "xgQCXhH1I-Ar",
        "colab": {
          "base_uri": "https://localhost:8080/"
        },
        "outputId": "57e4ca18-5135-491a-b8fc-fd87b64c618e"
      },
      "outputs": [
        {
          "output_type": "stream",
          "name": "stdout",
          "text": [
            "Số lượng từ: 618\n"
          ]
        },
        {
          "output_type": "execute_result",
          "data": {
            "text/plain": [
              "['Tương_lai \\n', 'là \\n', 'hôm_nay\\n', '.\\n', '\\n']"
            ]
          },
          "metadata": {},
          "execution_count": 12
        }
      ],
      "source": [
        "manual_tokens = open('/content/Manual_Tokens.txt', encoding='utf-8').readlines()\n",
        "print('Số lượng từ:', len(manual_tokens))\n",
        "manual_tokens[0:5]"
      ]
    },
    {
      "cell_type": "code",
      "execution_count": null,
      "metadata": {
        "colab": {
          "base_uri": "https://localhost:8080/"
        },
        "id": "l_my9VLvZ994",
        "outputId": "fa7312d5-7a57-4bc2-e240-5c613d80bd57"
      },
      "outputs": [
        {
          "output_type": "stream",
          "name": "stdout",
          "text": [
            "Số lượng từ: 619\n"
          ]
        },
        {
          "output_type": "execute_result",
          "data": {
            "text/plain": [
              "['Tương_lai\\n', 'là\\n', 'hôm_nay\\n', '.\\n', '\\n']"
            ]
          },
          "metadata": {},
          "execution_count": 13
        }
      ],
      "source": [
        "longest_matching_tokens = open('/content/Longest_Matching_Tokens.txt', encoding='utf-8').readlines()\n",
        "print('Số lượng từ:', len(longest_matching_tokens))\n",
        "longest_matching_tokens[0:5]"
      ]
    },
    {
      "cell_type": "markdown",
      "metadata": {
        "id": "av1bfUZ8az9u"
      },
      "source": []
    },
    {
      "cell_type": "markdown",
      "metadata": {
        "id": "up5czJAja1RT"
      },
      "source": [
        "# Gán nhãn bằng VnCoreNLP"
      ]
    },
    {
      "cell_type": "code",
      "execution_count": null,
      "metadata": {
        "id": "5NyEJ8vnaGOv"
      },
      "outputs": [],
      "source": [
        "with open('dataset/gold.txt', 'w', encoding='utf-8') as f:\n",
        "    for word in manual_tokens:\n",
        "        word = word.replace('\\n', '')\n",
        "        \n",
        "        if '_' not in word: tag = client.pos_tag(word)\n",
        "        else: tag = client.pos_tag(word.replace('_', ' '))\n",
        "        \n",
        "        if tag == []: f.write('\\n')\n",
        "        else: f.write(f'{word}\\t{tag[0][0][1]}\\n')\n",
        "    f.write('\\n')"
      ]
    },
    {
      "cell_type": "markdown",
      "source": [
        "# Chia dữ liệu thành tập Train và Test"
      ],
      "metadata": {
        "id": "G5cZf7_RnaTZ"
      }
    },
    {
      "cell_type": "code",
      "source": [
        "label = open('/content/label.txt', encoding='utf-8').readlines()\n",
        "new_line_idx = [i for i, item in enumerate(manual_tokens) if item == '\\n']"
      ],
      "metadata": {
        "id": "0z4bmr7mned5"
      },
      "execution_count": null,
      "outputs": []
    },
    {
      "cell_type": "code",
      "source": [
        "with open('/content/label_train.txt', 'w', encoding='utf-8') as f:\n",
        "    for line in label[:new_line_idx[32]]: f.write(line)\n",
        "    f.write('\\n')\n",
        "    \n",
        "with open('/content/label_test.txt', 'w', encoding='utf-8') as f:\n",
        "    for line in label[new_line_idx[32] + 1:]: f.write(line)"
      ],
      "metadata": {
        "id": "ar8o-GQYnosB"
      },
      "execution_count": null,
      "outputs": []
    },
    {
      "cell_type": "code",
      "source": [
        "with open('/content/train_words.txt', 'w', encoding='utf-8') as f:\n",
        "    for line in label[:new_line_idx[32]]: f.write(re.sub('\\t.*', '', line))\n",
        "    f.write('\\n')        \n",
        "    \n",
        "with open('/content/test_words.txt', 'w', encoding='utf-8') as f:\n",
        "    for line in label[new_line_idx[32] + 1:]: f.write(re.sub('\\t.*', '', line))"
      ],
      "metadata": {
        "id": "rzSA9kSqWF1X"
      },
      "execution_count": null,
      "outputs": []
    },
    {
      "cell_type": "markdown",
      "source": [
        "# Đọc dữ liệu"
      ],
      "metadata": {
        "id": "80TGiiLmXsAr"
      }
    },
    {
      "cell_type": "code",
      "source": [
        "def preprocess(vocabs_dict, path):\n",
        "    data = []\n",
        "    file = open(path, encoding='utf-8').readlines()\n",
        "    \n",
        "    for index, word in enumerate(file):\n",
        "        if not word.split():\n",
        "            word = '--n--'\n",
        "            data.append(word)\n",
        "            continue\n",
        "        elif word.strip() not in vocabs_dict:\n",
        "            word = '--unk--'\n",
        "            data.append(word)\n",
        "            continue\n",
        "        data.append(word.strip())\n",
        "    return data"
      ],
      "metadata": {
        "id": "_rfBzL8lXtzH"
      },
      "execution_count": null,
      "outputs": []
    },
    {
      "cell_type": "code",
      "source": [
        "def plot_tag_counts(label):\n",
        "    tags = [word_tag.split()[1] for word_tag in label if word_tag.split()]\n",
        "    tag_counts = pd.DataFrame(tags)[0].value_counts()\n",
        "    tag_counts.plot.bar(rot=0, width=0.7, legend=False, figsize=(15, 5))\n",
        "    return pd.DataFrame(tag_counts).T.assign(Total=tag_counts.sum()) "
      ],
      "metadata": {
        "id": "g9dZJx-wXv8F"
      },
      "execution_count": null,
      "outputs": []
    },
    {
      "cell_type": "markdown",
      "source": [
        "# Vocabs"
      ],
      "metadata": {
        "id": "wddUxy5LMBSj"
      }
    },
    {
      "cell_type": "code",
      "source": [
        "vocabs = open('/content/vocabs.txt', encoding='utf-8').read().split('\\n')\n",
        "vocabs_dict = {}\n",
        "index = 0\n",
        "\n",
        "for word in sorted(vocabs): \n",
        "    if word not in vocabs_dict: \n",
        "        vocabs_dict[word] = index  \n",
        "        index += 1"
      ],
      "metadata": {
        "id": "6IIEuypoMDQq"
      },
      "execution_count": null,
      "outputs": []
    },
    {
      "cell_type": "code",
      "source": [
        "print('Số lượng từ vựng:', len(vocabs_dict.keys()))\n",
        "count = 0\n",
        "\n",
        "for key, value in vocabs_dict.items():\n",
        "    print(f'{key}: {value}')\n",
        "    count += 1\n",
        "    if count > 20: break"
      ],
      "metadata": {
        "colab": {
          "base_uri": "https://localhost:8080/"
        },
        "id": "OHKlzWGxMKcE",
        "outputId": "0cd6fa83-8bdb-4f2b-8e63-a15399dd8730"
      },
      "execution_count": null,
      "outputs": [
        {
          "output_type": "stream",
          "name": "stdout",
          "text": [
            "Số lượng từ vựng: 54817\n",
            "!: 0\n",
            "\": 1\n",
            "#: 2\n",
            "$: 3\n",
            "%: 4\n",
            "&: 5\n",
            "': 6\n",
            "'': 7\n",
            "'40s: 8\n",
            "'60s: 9\n",
            "'70s: 10\n",
            "'80s: 11\n",
            "'86: 12\n",
            "'90s: 13\n",
            "'N: 14\n",
            "'S: 15\n",
            "'d: 16\n",
            "'em: 17\n",
            "'ll: 18\n",
            "'m: 19\n",
            "'n': 20\n"
          ]
        }
      ]
    },
    {
      "cell_type": "markdown",
      "source": [
        "# Tập Train"
      ],
      "metadata": {
        "id": "gZtt3zbtoiMw"
      }
    },
    {
      "cell_type": "code",
      "source": [
        "label_train = open('/content/label_train.txt', encoding='utf-8').readlines()\n",
        "print('Số lượng từ trong tập label_train:', len(label_train))\n",
        "label_train[0:5]"
      ],
      "metadata": {
        "colab": {
          "base_uri": "https://localhost:8080/"
        },
        "id": "HO3ja9apokhI",
        "outputId": "22f18d89-5f51-47a3-ce78-85e60e78ca41"
      },
      "execution_count": null,
      "outputs": [
        {
          "output_type": "stream",
          "name": "stdout",
          "text": [
            "Số lượng từ trong tập label_train: 466\n"
          ]
        },
        {
          "output_type": "execute_result",
          "data": {
            "text/plain": [
              "['Tương_lai\\tN\\n', 'là\\tV\\n', 'hôm_nay\\tN\\n', '.\\n', '\\n']"
            ]
          },
          "metadata": {},
          "execution_count": 22
        }
      ]
    },
    {
      "cell_type": "code",
      "source": [
        "train_words = preprocess(vocabs_dict, '/content/train_words.txt')\n",
        "print('Số lượng từ trong tập train_words:', len(train_words))\n",
        "train_words[0:5]"
      ],
      "metadata": {
        "colab": {
          "base_uri": "https://localhost:8080/"
        },
        "id": "Qt06J5j0YO8E",
        "outputId": "2cdabf3d-6754-464d-c238-04a8e334e25a"
      },
      "execution_count": null,
      "outputs": [
        {
          "output_type": "stream",
          "name": "stdout",
          "text": [
            "Số lượng từ trong tập train_words: 466\n"
          ]
        },
        {
          "output_type": "execute_result",
          "data": {
            "text/plain": [
              "['--unk--', 'là', 'hôm_nay', '.', '--n--']"
            ]
          },
          "metadata": {},
          "execution_count": 27
        }
      ]
    },
    {
      "cell_type": "code",
      "source": [
        "print('Các từ không nằm trong vocabs', end=': ')\n",
        "for word_tag, word in zip(label_train, train_words):\n",
        "    if word == '--unk--': print(word_tag.split()[0], end=', ')\n",
        "#plot_tag_counts(label_train)"
      ],
      "metadata": {
        "colab": {
          "base_uri": "https://localhost:8080/"
        },
        "id": "Sqx_IRHj4wh7",
        "outputId": "f1d7e6da-2e7f-4efb-875f-b394b1ad0fdf"
      },
      "execution_count": null,
      "outputs": [
        {
          "output_type": "stream",
          "name": "stdout",
          "text": [
            "Các từ không nằm trong vocabs: Tương_lai, Hãy, chôn_vùi, Nhưng, nỗi_buồn, Quá_khứ, mệnh_mông, bất, Nếu, như_thế, hủy_hoại, Sau, xảy_ra, Khi, sáng, tìm_ra, nằm_nghỉ, xảy_ra, Sự, Thái_độ, Người, Một, Sự, Hiếm, Một, nể_phục, Sau, Thậm_chí, Chúng_ta, 1/3, Nguyên_nhân, thường, khỏe, Tùy, Lo_lắng, Để, "
          ]
        }
      ]
    },
    {
      "cell_type": "markdown",
      "source": [
        "# Tập Test"
      ],
      "metadata": {
        "id": "uXTx4YZhpXkO"
      }
    },
    {
      "cell_type": "code",
      "source": [
        "label_test = open('/content/label_test.txt', encoding='utf-8').readlines()\n",
        "print('Số lượng từ trong tập test:', len(label_test))\n",
        "label_test[0:5]"
      ],
      "metadata": {
        "colab": {
          "base_uri": "https://localhost:8080/"
        },
        "id": "Rh6gImNhpZvt",
        "outputId": "197fdbe8-f920-4951-c617-0593e7ef7639"
      },
      "execution_count": null,
      "outputs": [
        {
          "output_type": "stream",
          "name": "stdout",
          "text": [
            "Số lượng từ trong tập test: 158\n"
          ]
        },
        {
          "output_type": "execute_result",
          "data": {
            "text/plain": [
              "['.\\n', '\\n', 'Nếu \\tC\\n', 'bạn \\tN\\n', 'không \\tR\\n']"
            ]
          },
          "metadata": {},
          "execution_count": 37
        }
      ]
    },
    {
      "cell_type": "code",
      "source": [
        "test_words = preprocess(vocabs_dict, '/content/test_words.txt')\n",
        "print('Số lượng từ trong tập test_words:', len(test_words))\n",
        "test_words[0:5]"
      ],
      "metadata": {
        "colab": {
          "base_uri": "https://localhost:8080/"
        },
        "id": "ehO92wh75fjy",
        "outputId": "fb4a48ae-8f10-4150-9e29-3fe1717bdd3a"
      },
      "execution_count": null,
      "outputs": [
        {
          "output_type": "stream",
          "name": "stdout",
          "text": [
            "Số lượng từ trong tập test_words: 158\n"
          ]
        },
        {
          "output_type": "execute_result",
          "data": {
            "text/plain": [
              "['.', '--n--', '--unk--', 'bạn', 'không']"
            ]
          },
          "metadata": {},
          "execution_count": 33
        }
      ]
    },
    {
      "cell_type": "code",
      "source": [
        "print('Các từ không nằm trong vocabs', end=': ')\n",
        "for word_tag, word in zip(label_test, test_words):\n",
        "    if word == '--unk--': print(word_tag.split()[0], end=', ')\n",
        "#plot_tag_counts(label_test)"
      ],
      "metadata": {
        "colab": {
          "base_uri": "https://localhost:8080/"
        },
        "id": "0fRm4Hnz5hkX",
        "outputId": "1e8c7e9d-1122-44c8-c560-e7dbef788370"
      },
      "execution_count": null,
      "outputs": [
        {
          "output_type": "stream",
          "name": "stdout",
          "text": [
            "Các từ không nằm trong vocabs: Nếu, thư_giãn, Một, Nếu, Khi, Hãy, Lo_lắng, gây_ra, tệ_hại, Nhớ, Chúng_ta, Khi, "
          ]
        }
      ]
    },
    {
      "cell_type": "markdown",
      "source": [
        "# Training"
      ],
      "metadata": {
        "id": "JbuylDh0DXNm"
      }
    },
    {
      "cell_type": "code",
      "source": [
        "def seperate_word_tag(word_tag, vocabs_dict): \n",
        "    if not word_tag.split():\n",
        "        word = '--n--'\n",
        "        tag = '--s--'\n",
        "    else:\n",
        "        word, tag = word_tag.split()\n",
        "        if word not in vocabs_dict: word = '--unk--'\n",
        "    return word, tag"
      ],
      "metadata": {
        "id": "RnA5uz2vupNv"
      },
      "execution_count": null,
      "outputs": []
    },
    {
      "cell_type": "code",
      "source": [
        "def create_dictionaries(train_gold, vocab):\n",
        "    emission_counts = defaultdict(int)\n",
        "    transition_counts = defaultdict(int)\n",
        "    tag_counts = defaultdict(int)\n",
        "    \n",
        "    prev_tag = '--s--' \n",
        "    for word_tag in train_gold:\n",
        "        word, tag = seperate_word_tag(word_tag, vocab) \n",
        "        \n",
        "        transition_counts[(prev_tag, tag)] += 1\n",
        "        emission_counts[(tag, word)] += 1\n",
        "        tag_counts[tag] += 1\n",
        "        prev_tag = tag\n",
        "    return transition_counts, emission_counts, tag_counts"
      ],
      "metadata": {
        "id": "QqXzWBzdDbBF"
      },
      "execution_count": null,
      "outputs": []
    },
    {
      "cell_type": "code",
      "source": [
        "transition_counts, emission_counts, tag_counts = create_dictionaries(label_train, vocabs_dict)\n",
        "states = sorted(tag_counts.keys())\n",
        "print('Số nhãn:', len(states))\n",
        "print(states)"
      ],
      "metadata": {
        "colab": {
          "base_uri": "https://localhost:8080/",
          "height": 363
        },
        "id": "DqnflOJeDcv-",
        "outputId": "917d3047-faab-4dde-b1fc-70557a701325"
      },
      "execution_count": null,
      "outputs": [
        {
          "output_type": "error",
          "ename": "ValueError",
          "evalue": "ignored",
          "traceback": [
            "\u001b[0;31m---------------------------------------------------------------------------\u001b[0m",
            "\u001b[0;31mValueError\u001b[0m                                Traceback (most recent call last)",
            "\u001b[0;32m<ipython-input-38-4a27d00ba035>\u001b[0m in \u001b[0;36m<module>\u001b[0;34m\u001b[0m\n\u001b[0;32m----> 1\u001b[0;31m \u001b[0mtransition_counts\u001b[0m\u001b[0;34m,\u001b[0m \u001b[0memission_counts\u001b[0m\u001b[0;34m,\u001b[0m \u001b[0mtag_counts\u001b[0m \u001b[0;34m=\u001b[0m \u001b[0mcreate_dictionaries\u001b[0m\u001b[0;34m(\u001b[0m\u001b[0mlabel_train\u001b[0m\u001b[0;34m,\u001b[0m \u001b[0mvocabs_dict\u001b[0m\u001b[0;34m)\u001b[0m\u001b[0;34m\u001b[0m\u001b[0;34m\u001b[0m\u001b[0m\n\u001b[0m\u001b[1;32m      2\u001b[0m \u001b[0mstates\u001b[0m \u001b[0;34m=\u001b[0m \u001b[0msorted\u001b[0m\u001b[0;34m(\u001b[0m\u001b[0mtag_counts\u001b[0m\u001b[0;34m.\u001b[0m\u001b[0mkeys\u001b[0m\u001b[0;34m(\u001b[0m\u001b[0;34m)\u001b[0m\u001b[0;34m)\u001b[0m\u001b[0;34m\u001b[0m\u001b[0;34m\u001b[0m\u001b[0m\n\u001b[1;32m      3\u001b[0m \u001b[0mprint\u001b[0m\u001b[0;34m(\u001b[0m\u001b[0;34m'Số nhãn:'\u001b[0m\u001b[0;34m,\u001b[0m \u001b[0mlen\u001b[0m\u001b[0;34m(\u001b[0m\u001b[0mstates\u001b[0m\u001b[0;34m)\u001b[0m\u001b[0;34m)\u001b[0m\u001b[0;34m\u001b[0m\u001b[0;34m\u001b[0m\u001b[0m\n\u001b[1;32m      4\u001b[0m \u001b[0mprint\u001b[0m\u001b[0;34m(\u001b[0m\u001b[0mstates\u001b[0m\u001b[0;34m)\u001b[0m\u001b[0;34m\u001b[0m\u001b[0;34m\u001b[0m\u001b[0m\n",
            "\u001b[0;32m<ipython-input-26-468ed25632f7>\u001b[0m in \u001b[0;36mcreate_dictionaries\u001b[0;34m(train_gold, vocab)\u001b[0m\n\u001b[1;32m      6\u001b[0m     \u001b[0mprev_tag\u001b[0m \u001b[0;34m=\u001b[0m \u001b[0;34m'--s--'\u001b[0m\u001b[0;34m\u001b[0m\u001b[0;34m\u001b[0m\u001b[0m\n\u001b[1;32m      7\u001b[0m     \u001b[0;32mfor\u001b[0m \u001b[0mword_tag\u001b[0m \u001b[0;32min\u001b[0m \u001b[0mtrain_gold\u001b[0m\u001b[0;34m:\u001b[0m\u001b[0;34m\u001b[0m\u001b[0;34m\u001b[0m\u001b[0m\n\u001b[0;32m----> 8\u001b[0;31m         \u001b[0mword\u001b[0m\u001b[0;34m,\u001b[0m \u001b[0mtag\u001b[0m \u001b[0;34m=\u001b[0m \u001b[0mseperate_word_tag\u001b[0m\u001b[0;34m(\u001b[0m\u001b[0mword_tag\u001b[0m\u001b[0;34m,\u001b[0m \u001b[0mvocab\u001b[0m\u001b[0;34m)\u001b[0m\u001b[0;34m\u001b[0m\u001b[0;34m\u001b[0m\u001b[0m\n\u001b[0m\u001b[1;32m      9\u001b[0m \u001b[0;34m\u001b[0m\u001b[0m\n\u001b[1;32m     10\u001b[0m         \u001b[0mtransition_counts\u001b[0m\u001b[0;34m[\u001b[0m\u001b[0;34m(\u001b[0m\u001b[0mprev_tag\u001b[0m\u001b[0;34m,\u001b[0m \u001b[0mtag\u001b[0m\u001b[0;34m)\u001b[0m\u001b[0;34m]\u001b[0m \u001b[0;34m+=\u001b[0m \u001b[0;36m1\u001b[0m\u001b[0;34m\u001b[0m\u001b[0;34m\u001b[0m\u001b[0m\n",
            "\u001b[0;32m<ipython-input-25-cdb5464f0c68>\u001b[0m in \u001b[0;36mseperate_word_tag\u001b[0;34m(word_tag, vocabs_dict)\u001b[0m\n\u001b[1;32m      4\u001b[0m         \u001b[0mtag\u001b[0m \u001b[0;34m=\u001b[0m \u001b[0;34m'--s--'\u001b[0m\u001b[0;34m\u001b[0m\u001b[0;34m\u001b[0m\u001b[0m\n\u001b[1;32m      5\u001b[0m     \u001b[0;32melse\u001b[0m\u001b[0;34m:\u001b[0m\u001b[0;34m\u001b[0m\u001b[0;34m\u001b[0m\u001b[0m\n\u001b[0;32m----> 6\u001b[0;31m         \u001b[0mword\u001b[0m\u001b[0;34m,\u001b[0m \u001b[0mtag\u001b[0m \u001b[0;34m=\u001b[0m \u001b[0mword_tag\u001b[0m\u001b[0;34m.\u001b[0m\u001b[0msplit\u001b[0m\u001b[0;34m(\u001b[0m\u001b[0;34m)\u001b[0m\u001b[0;34m\u001b[0m\u001b[0;34m\u001b[0m\u001b[0m\n\u001b[0m\u001b[1;32m      7\u001b[0m         \u001b[0;32mif\u001b[0m \u001b[0mword\u001b[0m \u001b[0;32mnot\u001b[0m \u001b[0;32min\u001b[0m \u001b[0mvocabs_dict\u001b[0m\u001b[0;34m:\u001b[0m \u001b[0mword\u001b[0m \u001b[0;34m=\u001b[0m \u001b[0;34m'--unk--'\u001b[0m\u001b[0;34m\u001b[0m\u001b[0;34m\u001b[0m\u001b[0m\n\u001b[1;32m      8\u001b[0m     \u001b[0;32mreturn\u001b[0m \u001b[0mword\u001b[0m\u001b[0;34m,\u001b[0m \u001b[0mtag\u001b[0m\u001b[0;34m\u001b[0m\u001b[0;34m\u001b[0m\u001b[0m\n",
            "\u001b[0;31mValueError\u001b[0m: not enough values to unpack (expected 2, got 1)"
          ]
        }
      ]
    },
    {
      "cell_type": "code",
      "source": [],
      "metadata": {
        "id": "K_HYHa_gDc51"
      },
      "execution_count": null,
      "outputs": []
    },
    {
      "cell_type": "code",
      "source": [],
      "metadata": {
        "id": "p9ui8722Vrn3"
      },
      "execution_count": null,
      "outputs": []
    },
    {
      "cell_type": "markdown",
      "source": [
        "# Testing"
      ],
      "metadata": {
        "id": "L3iuQtDEVu4X"
      }
    },
    {
      "cell_type": "code",
      "source": [
        "def predict_pos(words, gold, emission_counts, vocabs_dict, states):\n",
        "    num_correct = 0\n",
        "    all_words = set(emission_counts.keys())\n",
        "    \n",
        "    for word, gold_tuple in zip(words, gold): \n",
        "        gold_tuple_list = gold_tuple.split()\n",
        "        if len(gold_tuple_list) != 2: continue\n",
        "        else: true_label = gold_tuple_list[1]\n",
        "    \n",
        "        count_final = 0\n",
        "        pos_final = ''\n",
        "        if word not in vocabs_dict: continue\n",
        "        \n",
        "        for pos in states:\n",
        "            if (pos, word) not in emission_counts: continue\n",
        "            count = emission_counts[(pos, word)]\n",
        "            \n",
        "            if count > count_final:\n",
        "                count_final = count\n",
        "                pos_final = pos\n",
        "                    \n",
        "        if pos_final == true_label: num_correct += 1\n",
        "    accuracy = num_correct / len(gold)\n",
        "    return accuracy"
      ],
      "metadata": {
        "id": "1psLbjH5Vw7e"
      },
      "execution_count": null,
      "outputs": []
    },
    {
      "cell_type": "code",
      "source": [],
      "metadata": {
        "id": "CMtqLDoiVxAn"
      },
      "execution_count": null,
      "outputs": []
    }
  ],
  "metadata": {
    "colab": {
      "provenance": []
    },
    "kernelspec": {
      "display_name": "Python 3",
      "name": "python3"
    },
    "language_info": {
      "name": "python"
    }
  },
  "nbformat": 4,
  "nbformat_minor": 0
}
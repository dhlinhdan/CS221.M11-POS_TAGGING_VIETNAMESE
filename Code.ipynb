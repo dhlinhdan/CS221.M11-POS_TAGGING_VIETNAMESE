{
  "cells": [
    {
      "cell_type": "markdown",
      "metadata": {
        "id": "4W_QPjwzf7uF"
      },
      "source": [
        "# ĐỒ ÁN: Xử lý ngôn ngữ tự nhiên\n",
        "Đinh Hoàng Linh Đan     - 19521309\n",
        "Trần Nguyễn Quỳnh Anh   - 19521217  "
      ]
    },
    {
      "cell_type": "code",
      "execution_count": 1,
      "metadata": {
        "id": "KZCud4Iqf1Z0"
      },
      "outputs": [],
      "source": [
        "from collections import defaultdict\n",
        "import unicodedata as ud\n",
        "import pandas as pd\n",
        "import numpy as np\n",
        "import math\n",
        "import ast\n",
        "import re"
      ]
    },
    {
      "cell_type": "code",
      "execution_count": 2,
      "metadata": {
        "id": "FhdcweSLgBBk"
      },
      "outputs": [],
      "source": [
        "import warnings\n",
        "warnings.filterwarnings('ignore')\n",
        "warnings.filterwarnings(action='ignore', category=DeprecationWarning)\n",
        "warnings.filterwarnings(action='ignore', category=FutureWarning)"
      ]
    },
    {
      "cell_type": "markdown",
      "metadata": {
        "id": "NZnAC6tHiTHs"
      },
      "source": [
        "# Dataset"
      ]
    },
    {
      "cell_type": "code",
      "execution_count": 5,
      "metadata": {
        "id": "B9zaNqVHgNn1"
      },
      "outputs": [],
      "source": [
        "sentences = open('D:\\\\4.1\\CS221.N11\\\\CS221.M11-POS_TAGGING_VIETNAMESE\\\\CS221.M11-POS_TAGGING_VIETNAMESE\\\\Dataset\\\\dataset.txt', encoding='utf-8').readlines()\n",
        "tokenize_sentences = [sentence.split(' ') for sentence in sentences]"
      ]
    },
    {
      "cell_type": "code",
      "execution_count": 6,
      "metadata": {
        "colab": {
          "base_uri": "https://localhost:8080/"
        },
        "id": "B5S5qMoYgNvz",
        "outputId": "a988ae1b-7a8b-4d31-d5bd-700520094084"
      },
      "outputs": [
        {
          "name": "stdout",
          "output_type": "stream",
          "text": [
            "Số lượng câu trong Dataset: 40\n"
          ]
        }
      ],
      "source": [
        "print('Số lượng câu trong Dataset:', len(sentences))\n",
        "#sentences[0:len(sentences)]"
      ]
    },
    {
      "cell_type": "markdown",
      "metadata": {
        "id": "9FBMaGs4j1Xi"
      },
      "source": [
        "# Tách từ bằng Longest Matching"
      ]
    },
    {
      "cell_type": "code",
      "execution_count": 8,
      "metadata": {
        "id": "9Zc9yY2RH40q"
      },
      "outputs": [],
      "source": [
        "def syllablize(sentence):\n",
        "    word = '\\w+'\n",
        "    non_word = '[^\\w\\s]'\n",
        "    digits = '\\d+([\\.,_]\\d+)+'\n",
        "    \n",
        "    patterns = []\n",
        "    patterns.extend([word, non_word, digits])\n",
        "    patterns = f\"({'|'.join(patterns)})\"\n",
        "    \n",
        "    sentence = ud.normalize('NFC', sentence)\n",
        "    tokens = re.findall(patterns, sentence, re.UNICODE)\n",
        "    return [token[0] for token in tokens]"
      ]
    },
    {
      "cell_type": "code",
      "execution_count": 9,
      "metadata": {
        "id": "rRBkmsjIFhAH"
      },
      "outputs": [],
      "source": [
        "def load_n_grams(path):\n",
        "    with open(path, encoding='utf8') as f:\n",
        "        words = f.read()\n",
        "        words = ast.literal_eval(words)\n",
        "    return words"
      ]
    },
    {
      "cell_type": "code",
      "execution_count": 10,
      "metadata": {
        "id": "J80okVzEFhDj"
      },
      "outputs": [],
      "source": [
        "def longest_matching(sentence, two, three):\n",
        "    syllables = syllablize(sentence)\n",
        "    syl_len = len(syllables)\n",
        "    \n",
        "    curr_id = 0\n",
        "    word_list = []\n",
        "    done = False\n",
        "    \n",
        "    while (curr_id < syl_len) and (not done):\n",
        "        curr_word = syllables[curr_id]\n",
        "        if curr_id >= syl_len - 1:\n",
        "            word_list.append(curr_word)\n",
        "            done = True\n",
        "        else:\n",
        "            next_word = syllables[curr_id + 1]\n",
        "            pair_word = ' '.join([curr_word.lower(), next_word.lower()])\n",
        "            if curr_id >= (syl_len - 2):\n",
        "                if pair_word in two:\n",
        "                    word_list.append('_'.join([curr_word, next_word]))\n",
        "                    curr_id += 2\n",
        "                else:\n",
        "                    word_list.append(curr_word)\n",
        "                    curr_id += 1\n",
        "            else:\n",
        "                next_next_word = syllables[curr_id + 2]\n",
        "                triple_word = ' '.join([pair_word, next_next_word.lower()])\n",
        "                if triple_word in three:\n",
        "                    word_list.append('_'.join([curr_word, next_word, next_next_word]))\n",
        "                    curr_id += 3\n",
        "                elif pair_word in two:\n",
        "                    word_list.append('_'.join([curr_word, next_word]))\n",
        "                    curr_id += 2\n",
        "                else:\n",
        "                    word_list.append(curr_word)\n",
        "                    curr_id += 1\n",
        "    return word_list"
      ]
    },
    {
      "cell_type": "code",
      "execution_count": 13,
      "metadata": {
        "colab": {
          "base_uri": "https://localhost:8080/"
        },
        "id": "jfPsg6egGxC0",
        "outputId": "9e2755d6-1cb8-440e-a249-2a8eeec3a4c5"
      },
      "outputs": [
        {
          "data": {
            "text/plain": [
              "['Hãy', 'tách', 'khỏi', 'quá_khứ', 'và', 'chôn_vùi', 'nó', '.']"
            ]
          },
          "execution_count": 13,
          "metadata": {},
          "output_type": "execute_result"
        }
      ],
      "source": [
        "two_word = load_n_grams('Resource\\\\two_word.txt')\n",
        "three_word = load_n_grams('Resource\\\\three_word.txt')\n",
        "longest_matching('Hãy tách khỏi quá khứ và chôn vùi nó.', two_word, three_word)"
      ]
    },
    {
      "cell_type": "code",
      "execution_count": 14,
      "metadata": {
        "colab": {
          "base_uri": "https://localhost:8080/"
        },
        "id": "vUEaPB0VMIZ2",
        "outputId": "6933c805-4f1f-402d-91e5-50ff17960296"
      },
      "outputs": [
        {
          "data": {
            "text/plain": [
              "['Tương_lai là hôm_nay .',\n",
              " 'Hãy tách khỏi quá_khứ và chôn_vùi nó .',\n",
              " 'Nhưng ta hoàn_toàn không cần phải lo_lắng .']"
            ]
          },
          "execution_count": 14,
          "metadata": {},
          "output_type": "execute_result"
        }
      ],
      "source": [
        "with open('Longest_Matching_Tokens.txt', 'w', encoding='utf-8') as f:\n",
        "    longest_matching_sentences = []\n",
        "    for sentence in sentences:\n",
        "        word_list = longest_matching(sentence, two_word, three_word)\n",
        "        longest_matching_sentences.append(' '.join(word_list))\n",
        "        for word in word_list: f.write(word + '\\n')\n",
        "        if sentence != sentences[-1]: f.write('\\n')\n",
        "    f.write('\\n')\n",
        "longest_matching_sentences[0:3]"
      ]
    },
    {
      "cell_type": "markdown",
      "metadata": {
        "id": "QCDPQOWnbC3a"
      },
      "source": [
        "# Tách từ bằng VnCoreNLP"
      ]
    },
    {
      "cell_type": "code",
      "execution_count": 15,
      "metadata": {
        "id": "LgNrvxAubwHu"
      },
      "outputs": [
        {
          "name": "stdout",
          "output_type": "stream",
          "text": [
            "Requirement already satisfied: vncorenlp in c:\\users\\asus\\appdata\\local\\programs\\python\\python310\\lib\\site-packages (1.0.3)\n",
            "Requirement already satisfied: requests in c:\\users\\asus\\appdata\\local\\programs\\python\\python310\\lib\\site-packages (from vncorenlp) (2.28.0)\n",
            "Requirement already satisfied: idna<4,>=2.5 in c:\\users\\asus\\appdata\\local\\programs\\python\\python310\\lib\\site-packages (from requests->vncorenlp) (2.8)\n",
            "Requirement already satisfied: charset-normalizer~=2.0.0 in c:\\users\\asus\\appdata\\local\\programs\\python\\python310\\lib\\site-packages (from requests->vncorenlp) (2.0.12)\n",
            "Requirement already satisfied: urllib3<1.27,>=1.21.1 in c:\\users\\asus\\appdata\\local\\programs\\python\\python310\\lib\\site-packages (from requests->vncorenlp) (1.25.11)\n",
            "Requirement already satisfied: certifi>=2017.4.17 in c:\\users\\asus\\appdata\\local\\programs\\python\\python310\\lib\\site-packages (from requests->vncorenlp) (2021.10.8)\n"
          ]
        }
      ],
      "source": [
        "!pip install vncorenlp"
      ]
    },
    {
      "cell_type": "code",
      "execution_count": 16,
      "metadata": {
        "id": "q-GlnKkDbGMd"
      },
      "outputs": [],
      "source": [
        "from vncorenlp import VnCoreNLP"
      ]
    },
    {
      "cell_type": "code",
      "execution_count": 18,
      "metadata": {
        "id": "WD38AKFMhEUc"
      },
      "outputs": [],
      "source": [
        "client = VnCoreNLP(address='http://127.0.0.1', port=9001)"
      ]
    },
    {
      "cell_type": "code",
      "execution_count": 20,
      "metadata": {
        "id": "eYHwHah0bIje"
      },
      "outputs": [
        {
          "data": {
            "text/plain": [
              "['Tương_lai là hôm_nay .',\n",
              " 'Hãy tách khỏi quá_khứ và chôn vùi nó .',\n",
              " 'Nhưng ta hoàn_toàn không cần phải lo_lắng .']"
            ]
          },
          "execution_count": 20,
          "metadata": {},
          "output_type": "execute_result"
        }
      ],
      "source": [
        "with open('Tokens\\\\vncore_tokens.txt', 'w', encoding='utf-8') as f:\n",
        "    vncore_sentences = []\n",
        "    for sentence in sentences:\n",
        "        word_list = client.tokenize(sentence)[0]\n",
        "        vncore_sentences.append(' '.join(word_list))\n",
        "        for word in word_list: f.write(word + '\\n')\n",
        "        if sentence != sentences[-1]: f.write('\\n')\n",
        "    f.write('\\n')\n",
        "vncore_sentences[0:3]"
      ]
    },
    {
      "cell_type": "markdown",
      "metadata": {
        "id": "XpdplN6xHuXf"
      },
      "source": [
        "# Tách từ thủ công"
      ]
    },
    {
      "cell_type": "code",
      "execution_count": 21,
      "metadata": {
        "colab": {
          "base_uri": "https://localhost:8080/"
        },
        "id": "5ytWJnGIHgHp",
        "outputId": "fd629fbb-9e77-4eb1-b0a1-8a0bc8e0ed53"
      },
      "outputs": [
        {
          "data": {
            "text/plain": [
              "['Tương_lai  là  hôm_nay .',\n",
              " 'Hãy  tách  khỏi  quá_khứ  và  chôn_vùi  nó .',\n",
              " 'Nhưng  ta  hoàn_toàn  không  cần  phải  lo_lắng .']"
            ]
          },
          "execution_count": 21,
          "metadata": {},
          "output_type": "execute_result"
        }
      ],
      "source": [
        "with open('Tokens\\manual_token.txt', 'r', encoding='utf-8') as f:\n",
        "    manual_tokenize_sentences = []\n",
        "    sentence = ''\n",
        "    for word in f:\n",
        "        if word == '\\n': \n",
        "            manual_tokenize_sentences.append(sentence.strip())\n",
        "            sentence = ''\n",
        "        else: sentence += word.replace('\\n', ' ')\n",
        "manual_tokenize_sentences[0:3]"
      ]
    },
    {
      "cell_type": "markdown",
      "metadata": {
        "id": "PRduRpBIXzby"
      },
      "source": [
        "# Đánh giá kết quả tách từ"
      ]
    },
    {
      "cell_type": "code",
      "execution_count": 22,
      "metadata": {
        "id": "Az5BPXG6X2Oc"
      },
      "outputs": [],
      "source": [
        "def count_correct_words(pred, source, n_grams=3):\n",
        "    pred_words = pred.split()\n",
        "    source_words = source.split()\n",
        "    \n",
        "    total_true, tp = 0, 0\n",
        "    total_errors, fp = 0, 0\n",
        "    \n",
        "    idx = 0\n",
        "    while idx < len(pred_words):\n",
        "        if pred_words[idx] not in source_words[idx:(idx + n_grams)]: \n",
        "            if '_' in pred_words[idx]: fp += 1\n",
        "            del pred_words[idx]\n",
        "            total_errors += 1\n",
        "        else: idx += 1\n",
        "    \n",
        "    idx = 0\n",
        "    while idx < len(source_words):\n",
        "        if source_words[idx] not in pred_words[idx:(idx + n_grams)]: \n",
        "            del source_words[idx]\n",
        "        else: idx += 1\n",
        "    \n",
        "    if len(pred_words) < len(source_words): words = pred_words\n",
        "    else: words = source_words\n",
        "    \n",
        "    for idx in range (len(words)):\n",
        "        if pred_words[idx] == source_words[idx]:\n",
        "            if '_' in pred_words[idx]: tp += 1 \n",
        "            total_true += 1\n",
        "                    \n",
        "    return total_true, total_errors, tp, fp"
      ]
    },
    {
      "cell_type": "code",
      "execution_count": 23,
      "metadata": {
        "id": "1kxpMgdJYADE"
      },
      "outputs": [],
      "source": [
        "def tokenize_evaluation(pred, source, n_grams=3):\n",
        "    total_true = 0\n",
        "    total_errors = 0\n",
        "    total_words = 0\n",
        "    \n",
        "    pred_tp = 0\n",
        "    pred_fp = 0\n",
        "    \n",
        "    for pred_sentence, source_sentence in zip(pred, source):\n",
        "        total_words += len(source_sentence.split())\n",
        "        if pred_sentence != source_sentence:\n",
        "            true, error, tp, fp = count_correct_words(pred_sentence, source_sentence, n_grams)\n",
        "            total_true += true \n",
        "            total_errors += error\n",
        "            pred_tp += tp\n",
        "            pred_fp += fp\n",
        "        else:\n",
        "            for word in source_sentence.split():\n",
        "                if '_' in word: pred_tp += 1\n",
        "                total_true += 1\n",
        "    return {\n",
        "        'Accuracy': total_true / total_words, \n",
        "        'Precision': pred_tp / (pred_tp + pred_fp),\n",
        "        'Recall': pred_tp / count_manual_tokenize_compounds,\n",
        "        'True Positive': pred_tp, \n",
        "        'False Positive': pred_fp,\n",
        "        'Total True': total_true, \n",
        "        'Total Errors': total_errors\n",
        "    }"
      ]
    },
    {
      "cell_type": "markdown",
      "metadata": {
        "id": "ZffPxQN2I64b"
      },
      "source": [
        "# Tạo ngữ liệu"
      ]
    },
    {
      "cell_type": "code",
      "execution_count": 24,
      "metadata": {
        "colab": {
          "base_uri": "https://localhost:8080/"
        },
        "id": "xgQCXhH1I-Ar",
        "outputId": "57e4ca18-5135-491a-b8fc-fd87b64c618e"
      },
      "outputs": [
        {
          "name": "stdout",
          "output_type": "stream",
          "text": [
            "Số lượng từ: 620\n"
          ]
        },
        {
          "data": {
            "text/plain": [
              "['Tương_lai \\n', 'là \\n', 'hôm_nay\\n', '.\\n', '\\n']"
            ]
          },
          "execution_count": 24,
          "metadata": {},
          "output_type": "execute_result"
        }
      ],
      "source": [
        "manual_tokens = open('Tokens\\\\manual_token.txt', encoding='utf-8').readlines()\n",
        "print('Số lượng từ:', len(manual_tokens))\n",
        "manual_tokens[0:5]"
      ]
    },
    {
      "cell_type": "code",
      "execution_count": 25,
      "metadata": {
        "colab": {
          "base_uri": "https://localhost:8080/"
        },
        "id": "l_my9VLvZ994",
        "outputId": "fa7312d5-7a57-4bc2-e240-5c613d80bd57"
      },
      "outputs": [
        {
          "name": "stdout",
          "output_type": "stream",
          "text": [
            "Số lượng từ: 619\n"
          ]
        },
        {
          "data": {
            "text/plain": [
              "['Tương_lai\\n', 'là\\n', 'hôm_nay\\n', '.\\n', '\\n']"
            ]
          },
          "execution_count": 25,
          "metadata": {},
          "output_type": "execute_result"
        }
      ],
      "source": [
        "longest_matching_tokens = open('Longest_Matching_Tokens.txt', encoding='utf-8').readlines()\n",
        "print('Số lượng từ:', len(longest_matching_tokens))\n",
        "longest_matching_tokens[0:5]"
      ]
    },
    {
      "cell_type": "markdown",
      "metadata": {
        "id": "av1bfUZ8az9u"
      },
      "source": []
    },
    {
      "cell_type": "markdown",
      "metadata": {
        "id": "up5czJAja1RT"
      },
      "source": [
        "# Gán nhãn bằng VnCoreNLP"
      ]
    },
    {
      "cell_type": "code",
      "execution_count": 26,
      "metadata": {
        "id": "5NyEJ8vnaGOv"
      },
      "outputs": [],
      "source": [
        "with open('Dataset\\\\label.txt', 'w', encoding='utf-8') as f:\n",
        "    for word in manual_tokens:\n",
        "        word = word.replace('\\n', '')\n",
        "        \n",
        "        if '_' not in word: tag = client.pos_tag(word)\n",
        "        else: tag = client.pos_tag(word.replace('_', ' '))\n",
        "        \n",
        "        if tag == []: f.write('\\n')\n",
        "        else: f.write(f'{word}\\t{tag[0][0][1]}\\n')\n",
        "    f.write('\\n')"
      ]
    },
    {
      "cell_type": "markdown",
      "metadata": {
        "id": "G5cZf7_RnaTZ"
      },
      "source": [
        "# Chia dữ liệu thành tập Train và Test"
      ]
    },
    {
      "cell_type": "code",
      "execution_count": 27,
      "metadata": {
        "id": "0z4bmr7mned5"
      },
      "outputs": [],
      "source": [
        "label = open('Dataset\\\\label.txt', encoding='utf-8').readlines()\n",
        "new_line_idx = [i for i, item in enumerate(manual_tokens) if item == '\\n']"
      ]
    },
    {
      "cell_type": "code",
      "execution_count": 29,
      "metadata": {
        "id": "ar8o-GQYnosB"
      },
      "outputs": [],
      "source": [
        "with open('Dataset\\\\label_train.txt', 'w', encoding='utf-8') as f:\n",
        "    for line in label[:new_line_idx[32]]: f.write(line)\n",
        "    f.write('\\n')\n",
        "    \n",
        "with open('Dataset\\\\label_test.txt', 'w', encoding='utf-8') as f:\n",
        "    for line in label[new_line_idx[32] + 1:]: f.write(line)"
      ]
    },
    {
      "cell_type": "code",
      "execution_count": 30,
      "metadata": {
        "id": "rzSA9kSqWF1X"
      },
      "outputs": [],
      "source": [
        "with open('Dataset\\\\train_words.txt', 'w', encoding='utf-8') as f:\n",
        "    for line in label[:new_line_idx[32]]: f.write(re.sub('\\t.*', '', line))\n",
        "    f.write('\\n')        \n",
        "    \n",
        "with open('Dataset\\\\test_words.txt', 'w', encoding='utf-8') as f:\n",
        "    for line in label[new_line_idx[32] + 1:]: f.write(re.sub('\\t.*', '', line))"
      ]
    },
    {
      "cell_type": "markdown",
      "metadata": {
        "id": "80TGiiLmXsAr"
      },
      "source": [
        "# Đọc dữ liệu"
      ]
    },
    {
      "cell_type": "code",
      "execution_count": 31,
      "metadata": {
        "id": "_rfBzL8lXtzH"
      },
      "outputs": [],
      "source": [
        "def preprocess(vocabs_dict, path):\n",
        "    data = []\n",
        "    file = open(path, encoding='utf-8').readlines()\n",
        "    \n",
        "    for index, word in enumerate(file):\n",
        "        if not word.split():\n",
        "            word = '--n--'\n",
        "            data.append(word)\n",
        "            continue\n",
        "        elif word.strip() not in vocabs_dict:\n",
        "            word = '--unk--'\n",
        "            data.append(word)\n",
        "            continue\n",
        "        data.append(word.strip())\n",
        "    return data"
      ]
    },
    {
      "cell_type": "code",
      "execution_count": 32,
      "metadata": {
        "id": "g9dZJx-wXv8F"
      },
      "outputs": [],
      "source": [
        "def plot_tag_counts(label):\n",
        "    tags = [word_tag.split()[1] for word_tag in label if word_tag.split()]\n",
        "    tag_counts = pd.DataFrame(tags)[0].value_counts()\n",
        "    tag_counts.plot.bar(rot=0, width=0.7, legend=False, figsize=(15, 5))\n",
        "    return pd.DataFrame(tag_counts).T.assign(Total=tag_counts.sum()) "
      ]
    },
    {
      "cell_type": "markdown",
      "metadata": {
        "id": "wddUxy5LMBSj"
      },
      "source": [
        "# Vocabs"
      ]
    },
    {
      "cell_type": "code",
      "execution_count": 33,
      "metadata": {
        "id": "6IIEuypoMDQq"
      },
      "outputs": [],
      "source": [
        "vocabs = open('Resource\\\\vocabs.txt', encoding='utf-8').read().split('\\n')\n",
        "vocabs_dict = {}\n",
        "index = 0\n",
        "\n",
        "for word in sorted(vocabs): \n",
        "    if word not in vocabs_dict: \n",
        "        vocabs_dict[word] = index  \n",
        "        index += 1"
      ]
    },
    {
      "cell_type": "code",
      "execution_count": 34,
      "metadata": {
        "colab": {
          "base_uri": "https://localhost:8080/"
        },
        "id": "OHKlzWGxMKcE",
        "outputId": "0cd6fa83-8bdb-4f2b-8e63-a15399dd8730"
      },
      "outputs": [
        {
          "name": "stdout",
          "output_type": "stream",
          "text": [
            "Số lượng từ vựng: 54817\n",
            "!: 0\n",
            "\": 1\n",
            "#: 2\n",
            "$: 3\n",
            "%: 4\n",
            "&: 5\n",
            "': 6\n",
            "'': 7\n",
            "'40s: 8\n",
            "'60s: 9\n",
            "'70s: 10\n",
            "'80s: 11\n",
            "'86: 12\n",
            "'90s: 13\n",
            "'N: 14\n",
            "'S: 15\n",
            "'d: 16\n",
            "'em: 17\n",
            "'ll: 18\n",
            "'m: 19\n",
            "'n': 20\n"
          ]
        }
      ],
      "source": [
        "print('Số lượng từ vựng:', len(vocabs_dict.keys()))\n",
        "count = 0\n",
        "\n",
        "for key, value in vocabs_dict.items():\n",
        "    print(f'{key}: {value}')\n",
        "    count += 1\n",
        "    if count > 20: break"
      ]
    },
    {
      "cell_type": "markdown",
      "metadata": {
        "id": "gZtt3zbtoiMw"
      },
      "source": [
        "# Tập Train"
      ]
    },
    {
      "cell_type": "code",
      "execution_count": 35,
      "metadata": {
        "colab": {
          "base_uri": "https://localhost:8080/"
        },
        "id": "HO3ja9apokhI",
        "outputId": "22f18d89-5f51-47a3-ce78-85e60e78ca41"
      },
      "outputs": [
        {
          "name": "stdout",
          "output_type": "stream",
          "text": [
            "Số lượng từ trong tập label_train: 468\n"
          ]
        },
        {
          "data": {
            "text/plain": [
              "['Tương_lai \\tNp\\n', 'là \\tV\\n', 'hôm_nay\\tN\\n', '.\\tCH\\n', '\\n']"
            ]
          },
          "execution_count": 35,
          "metadata": {},
          "output_type": "execute_result"
        }
      ],
      "source": [
        "label_train = open('Dataset\\\\label_train.txt', encoding='utf-8').readlines()\n",
        "print('Số lượng từ trong tập label_train:', len(label_train))\n",
        "label_train[0:5]"
      ]
    },
    {
      "cell_type": "code",
      "execution_count": 36,
      "metadata": {
        "colab": {
          "base_uri": "https://localhost:8080/"
        },
        "id": "Qt06J5j0YO8E",
        "outputId": "2cdabf3d-6754-464d-c238-04a8e334e25a"
      },
      "outputs": [
        {
          "name": "stdout",
          "output_type": "stream",
          "text": [
            "Số lượng từ trong tập train_words: 468\n"
          ]
        },
        {
          "data": {
            "text/plain": [
              "['--unk--', 'là', 'hôm_nay', '.', '--n--']"
            ]
          },
          "execution_count": 36,
          "metadata": {},
          "output_type": "execute_result"
        }
      ],
      "source": [
        "train_words = preprocess(vocabs_dict, 'Dataset\\\\train_words.txt')\n",
        "print('Số lượng từ trong tập train_words:', len(train_words))\n",
        "train_words[0:5]"
      ]
    },
    {
      "cell_type": "code",
      "execution_count": 37,
      "metadata": {
        "colab": {
          "base_uri": "https://localhost:8080/"
        },
        "id": "Sqx_IRHj4wh7",
        "outputId": "f1d7e6da-2e7f-4efb-875f-b394b1ad0fdf"
      },
      "outputs": [
        {
          "name": "stdout",
          "output_type": "stream",
          "text": [
            "Các từ không nằm trong vocabs: Tương_lai, Hãy, chôn_vùi, Nhưng, nỗi_buồn, Quá_khứ, mệnh_mông, bất, Nếu, như_thế, hủy_hoại, Sau, xảy_ra, Khi, tìm_ra, Mình, không_được, chuyện_gì, xảy_ra, Sự, Thái_độ, tạo_ra, đáng_ngạc_nhiên, 45kg, Người_chồng, thứ_nhất, sau_khi, Một, Sự, sức_lực., Sự, Hiếm_khi, gì_đó, Một, gây_ra, buồn_chán, nể_phục, Sau, không_hề, Thậm_chí, không_biết, Chúng_ta, 1/3, Nguyên_nhân, người_lính, leo_núi, khỏe_mạnh, đó., Tùy, lo, đem_lại, Để, "
          ]
        }
      ],
      "source": [
        "print('Các từ không nằm trong vocabs', end=': ')\n",
        "for word_tag, word in zip(label_train, train_words):\n",
        "    if word == '--unk--': print(word_tag.split()[0], end=', ')\n",
        "#plot_tag_counts(label_train)"
      ]
    },
    {
      "cell_type": "markdown",
      "metadata": {
        "id": "uXTx4YZhpXkO"
      },
      "source": [
        "# Tập Test"
      ]
    },
    {
      "cell_type": "code",
      "execution_count": 38,
      "metadata": {
        "colab": {
          "base_uri": "https://localhost:8080/"
        },
        "id": "Rh6gImNhpZvt",
        "outputId": "197fdbe8-f920-4951-c617-0593e7ef7639"
      },
      "outputs": [
        {
          "name": "stdout",
          "output_type": "stream",
          "text": [
            "Số lượng từ trong tập test: 153\n"
          ]
        },
        {
          "data": {
            "text/plain": [
              "['Nếu \\tC\\n', 'bạn \\tN\\n', 'không \\tR\\n', 'có \\tV\\n', 'một \\tM\\n']"
            ]
          },
          "execution_count": 38,
          "metadata": {},
          "output_type": "execute_result"
        }
      ],
      "source": [
        "label_test = open('Dataset\\\\label_test.txt', encoding='utf-8').readlines()\n",
        "print('Số lượng từ trong tập test:', len(label_test))\n",
        "label_test[0:5]"
      ]
    },
    {
      "cell_type": "code",
      "execution_count": 39,
      "metadata": {
        "colab": {
          "base_uri": "https://localhost:8080/"
        },
        "id": "ehO92wh75fjy",
        "outputId": "fb4a48ae-8f10-4150-9e29-3fe1717bdd3a"
      },
      "outputs": [
        {
          "name": "stdout",
          "output_type": "stream",
          "text": [
            "Số lượng từ trong tập test_words: 153\n"
          ]
        },
        {
          "data": {
            "text/plain": [
              "['--unk--', 'bạn', 'không', 'có', 'một']"
            ]
          },
          "execution_count": 39,
          "metadata": {},
          "output_type": "execute_result"
        }
      ],
      "source": [
        "test_words = preprocess(vocabs_dict, 'Dataset\\\\test_words.txt')\n",
        "print('Số lượng từ trong tập test_words:', len(test_words))\n",
        "test_words[0:5]"
      ]
    },
    {
      "cell_type": "code",
      "execution_count": 40,
      "metadata": {
        "colab": {
          "base_uri": "https://localhost:8080/"
        },
        "id": "0fRm4Hnz5hkX",
        "outputId": "1e8c7e9d-1122-44c8-c560-e7dbef788370"
      },
      "outputs": [
        {
          "name": "stdout",
          "output_type": "stream",
          "text": [
            "Các từ không nằm trong vocabs: Nếu, tín, vất, thư, biện, thể, Một, tốt_nhất, Nếu, Khi, Hãy, Lo_lắng, gây, Nhớ, Chúng_ta, Khi, có, "
          ]
        }
      ],
      "source": [
        "print('Các từ không nằm trong vocabs', end=': ')\n",
        "for word_tag, word in zip(label_test, test_words):\n",
        "    if word == '--unk--': print(word_tag.split()[0], end=', ')\n",
        "#plot_tag_counts(label_test)"
      ]
    },
    {
      "cell_type": "markdown",
      "metadata": {
        "id": "JbuylDh0DXNm"
      },
      "source": [
        "# Training"
      ]
    },
    {
      "cell_type": "code",
      "execution_count": 41,
      "metadata": {
        "id": "RnA5uz2vupNv"
      },
      "outputs": [],
      "source": [
        "def seperate_word_tag(word_tag, vocabs_dict): \n",
        "    if not word_tag.split():\n",
        "        word = '--n--'\n",
        "        tag = '--s--'\n",
        "    else:\n",
        "        word, tag = word_tag.split()\n",
        "        if word not in vocabs_dict: word = '--unk--'\n",
        "    return word, tag"
      ]
    },
    {
      "cell_type": "code",
      "execution_count": 42,
      "metadata": {
        "id": "QqXzWBzdDbBF"
      },
      "outputs": [],
      "source": [
        "def create_dictionaries(train_gold, vocab):\n",
        "    emission_counts = defaultdict(int)\n",
        "    transition_counts = defaultdict(int)\n",
        "    tag_counts = defaultdict(int)\n",
        "    \n",
        "    prev_tag = '--s--' \n",
        "    for word_tag in train_gold:\n",
        "        word, tag = seperate_word_tag(word_tag, vocab) \n",
        "        \n",
        "        transition_counts[(prev_tag, tag)] += 1\n",
        "        emission_counts[(tag, word)] += 1\n",
        "        tag_counts[tag] += 1\n",
        "        prev_tag = tag\n",
        "    return transition_counts, emission_counts, tag_counts"
      ]
    },
    {
      "cell_type": "code",
      "execution_count": 43,
      "metadata": {
        "colab": {
          "base_uri": "https://localhost:8080/",
          "height": 363
        },
        "id": "DqnflOJeDcv-",
        "outputId": "917d3047-faab-4dde-b1fc-70557a701325"
      },
      "outputs": [
        {
          "ename": "ValueError",
          "evalue": "too many values to unpack (expected 2)",
          "output_type": "error",
          "traceback": [
            "\u001b[1;31m---------------------------------------------------------------------------\u001b[0m",
            "\u001b[1;31mValueError\u001b[0m                                Traceback (most recent call last)",
            "\u001b[1;32md:\\4.1\\CS221.N11\\CS221.M11-POS_TAGGING_VIETNAMESE\\CS221.M11-POS_TAGGING_VIETNAMESE\\Code.ipynb Cell 50\u001b[0m in \u001b[0;36m<cell line: 1>\u001b[1;34m()\u001b[0m\n\u001b[1;32m----> <a href='vscode-notebook-cell:/d%3A/4.1/CS221.N11/CS221.M11-POS_TAGGING_VIETNAMESE/CS221.M11-POS_TAGGING_VIETNAMESE/Code.ipynb#Y100sZmlsZQ%3D%3D?line=0'>1</a>\u001b[0m transition_counts, emission_counts, tag_counts \u001b[39m=\u001b[39m create_dictionaries(label_train, vocabs_dict)\n\u001b[0;32m      <a href='vscode-notebook-cell:/d%3A/4.1/CS221.N11/CS221.M11-POS_TAGGING_VIETNAMESE/CS221.M11-POS_TAGGING_VIETNAMESE/Code.ipynb#Y100sZmlsZQ%3D%3D?line=1'>2</a>\u001b[0m states \u001b[39m=\u001b[39m \u001b[39msorted\u001b[39m(tag_counts\u001b[39m.\u001b[39mkeys())\n\u001b[0;32m      <a href='vscode-notebook-cell:/d%3A/4.1/CS221.N11/CS221.M11-POS_TAGGING_VIETNAMESE/CS221.M11-POS_TAGGING_VIETNAMESE/Code.ipynb#Y100sZmlsZQ%3D%3D?line=2'>3</a>\u001b[0m \u001b[39mprint\u001b[39m(\u001b[39m'\u001b[39m\u001b[39mSố nhãn:\u001b[39m\u001b[39m'\u001b[39m, \u001b[39mlen\u001b[39m(states))\n",
            "\u001b[1;32md:\\4.1\\CS221.N11\\CS221.M11-POS_TAGGING_VIETNAMESE\\CS221.M11-POS_TAGGING_VIETNAMESE\\Code.ipynb Cell 50\u001b[0m in \u001b[0;36mcreate_dictionaries\u001b[1;34m(train_gold, vocab)\u001b[0m\n\u001b[0;32m      <a href='vscode-notebook-cell:/d%3A/4.1/CS221.N11/CS221.M11-POS_TAGGING_VIETNAMESE/CS221.M11-POS_TAGGING_VIETNAMESE/Code.ipynb#Y100sZmlsZQ%3D%3D?line=5'>6</a>\u001b[0m prev_tag \u001b[39m=\u001b[39m \u001b[39m'\u001b[39m\u001b[39m--s--\u001b[39m\u001b[39m'\u001b[39m \n\u001b[0;32m      <a href='vscode-notebook-cell:/d%3A/4.1/CS221.N11/CS221.M11-POS_TAGGING_VIETNAMESE/CS221.M11-POS_TAGGING_VIETNAMESE/Code.ipynb#Y100sZmlsZQ%3D%3D?line=6'>7</a>\u001b[0m \u001b[39mfor\u001b[39;00m word_tag \u001b[39min\u001b[39;00m train_gold:\n\u001b[1;32m----> <a href='vscode-notebook-cell:/d%3A/4.1/CS221.N11/CS221.M11-POS_TAGGING_VIETNAMESE/CS221.M11-POS_TAGGING_VIETNAMESE/Code.ipynb#Y100sZmlsZQ%3D%3D?line=7'>8</a>\u001b[0m     word, tag \u001b[39m=\u001b[39m seperate_word_tag(word_tag, vocab) \n\u001b[0;32m     <a href='vscode-notebook-cell:/d%3A/4.1/CS221.N11/CS221.M11-POS_TAGGING_VIETNAMESE/CS221.M11-POS_TAGGING_VIETNAMESE/Code.ipynb#Y100sZmlsZQ%3D%3D?line=9'>10</a>\u001b[0m     transition_counts[(prev_tag, tag)] \u001b[39m+\u001b[39m\u001b[39m=\u001b[39m \u001b[39m1\u001b[39m\n\u001b[0;32m     <a href='vscode-notebook-cell:/d%3A/4.1/CS221.N11/CS221.M11-POS_TAGGING_VIETNAMESE/CS221.M11-POS_TAGGING_VIETNAMESE/Code.ipynb#Y100sZmlsZQ%3D%3D?line=10'>11</a>\u001b[0m     emission_counts[(tag, word)] \u001b[39m+\u001b[39m\u001b[39m=\u001b[39m \u001b[39m1\u001b[39m\n",
            "\u001b[1;32md:\\4.1\\CS221.N11\\CS221.M11-POS_TAGGING_VIETNAMESE\\CS221.M11-POS_TAGGING_VIETNAMESE\\Code.ipynb Cell 50\u001b[0m in \u001b[0;36mseperate_word_tag\u001b[1;34m(word_tag, vocabs_dict)\u001b[0m\n\u001b[0;32m      <a href='vscode-notebook-cell:/d%3A/4.1/CS221.N11/CS221.M11-POS_TAGGING_VIETNAMESE/CS221.M11-POS_TAGGING_VIETNAMESE/Code.ipynb#Y100sZmlsZQ%3D%3D?line=3'>4</a>\u001b[0m     tag \u001b[39m=\u001b[39m \u001b[39m'\u001b[39m\u001b[39m--s--\u001b[39m\u001b[39m'\u001b[39m\n\u001b[0;32m      <a href='vscode-notebook-cell:/d%3A/4.1/CS221.N11/CS221.M11-POS_TAGGING_VIETNAMESE/CS221.M11-POS_TAGGING_VIETNAMESE/Code.ipynb#Y100sZmlsZQ%3D%3D?line=4'>5</a>\u001b[0m \u001b[39melse\u001b[39;00m:\n\u001b[1;32m----> <a href='vscode-notebook-cell:/d%3A/4.1/CS221.N11/CS221.M11-POS_TAGGING_VIETNAMESE/CS221.M11-POS_TAGGING_VIETNAMESE/Code.ipynb#Y100sZmlsZQ%3D%3D?line=5'>6</a>\u001b[0m     word, tag \u001b[39m=\u001b[39m word_tag\u001b[39m.\u001b[39msplit()\n\u001b[0;32m      <a href='vscode-notebook-cell:/d%3A/4.1/CS221.N11/CS221.M11-POS_TAGGING_VIETNAMESE/CS221.M11-POS_TAGGING_VIETNAMESE/Code.ipynb#Y100sZmlsZQ%3D%3D?line=6'>7</a>\u001b[0m     \u001b[39mif\u001b[39;00m word \u001b[39mnot\u001b[39;00m \u001b[39min\u001b[39;00m vocabs_dict: word \u001b[39m=\u001b[39m \u001b[39m'\u001b[39m\u001b[39m--unk--\u001b[39m\u001b[39m'\u001b[39m\n\u001b[0;32m      <a href='vscode-notebook-cell:/d%3A/4.1/CS221.N11/CS221.M11-POS_TAGGING_VIETNAMESE/CS221.M11-POS_TAGGING_VIETNAMESE/Code.ipynb#Y100sZmlsZQ%3D%3D?line=7'>8</a>\u001b[0m \u001b[39mreturn\u001b[39;00m word, tag\n",
            "\u001b[1;31mValueError\u001b[0m: too many values to unpack (expected 2)"
          ]
        }
      ],
      "source": [
        "transition_counts, emission_counts, tag_counts = create_dictionaries(label_train, vocabs_dict)\n",
        "states = sorted(tag_counts.keys())\n",
        "print('Số nhãn:', len(states))\n",
        "print(states)"
      ]
    },
    {
      "cell_type": "code",
      "execution_count": null,
      "metadata": {
        "id": "K_HYHa_gDc51"
      },
      "outputs": [],
      "source": []
    },
    {
      "cell_type": "code",
      "execution_count": null,
      "metadata": {
        "id": "p9ui8722Vrn3"
      },
      "outputs": [],
      "source": []
    },
    {
      "cell_type": "markdown",
      "metadata": {
        "id": "L3iuQtDEVu4X"
      },
      "source": [
        "# Testing"
      ]
    },
    {
      "cell_type": "code",
      "execution_count": null,
      "metadata": {
        "id": "1psLbjH5Vw7e"
      },
      "outputs": [],
      "source": [
        "def predict_pos(words, gold, emission_counts, vocabs_dict, states):\n",
        "    num_correct = 0\n",
        "    all_words = set(emission_counts.keys())\n",
        "    \n",
        "    for word, gold_tuple in zip(words, gold): \n",
        "        gold_tuple_list = gold_tuple.split()\n",
        "        if len(gold_tuple_list) != 2: continue\n",
        "        else: true_label = gold_tuple_list[1]\n",
        "    \n",
        "        count_final = 0\n",
        "        pos_final = ''\n",
        "        if word not in vocabs_dict: continue\n",
        "        \n",
        "        for pos in states:\n",
        "            if (pos, word) not in emission_counts: continue\n",
        "            count = emission_counts[(pos, word)]\n",
        "            \n",
        "            if count > count_final:\n",
        "                count_final = count\n",
        "                pos_final = pos\n",
        "                    \n",
        "        if pos_final == true_label: num_correct += 1\n",
        "    accuracy = num_correct / len(gold)\n",
        "    return accuracy"
      ]
    },
    {
      "cell_type": "code",
      "execution_count": null,
      "metadata": {
        "id": "CMtqLDoiVxAn"
      },
      "outputs": [],
      "source": []
    }
  ],
  "metadata": {
    "colab": {
      "provenance": []
    },
    "kernelspec": {
      "display_name": "Python 3.10.5 64-bit",
      "language": "python",
      "name": "python3"
    },
    "language_info": {
      "codemirror_mode": {
        "name": "ipython",
        "version": 3
      },
      "file_extension": ".py",
      "mimetype": "text/x-python",
      "name": "python",
      "nbconvert_exporter": "python",
      "pygments_lexer": "ipython3",
      "version": "3.10.5"
    },
    "vscode": {
      "interpreter": {
        "hash": "27f6fea6f47ae512550f0b8facdbd035a93e1dd89633f7bf2dd00a2502c71d0d"
      }
    }
  },
  "nbformat": 4,
  "nbformat_minor": 0
}
